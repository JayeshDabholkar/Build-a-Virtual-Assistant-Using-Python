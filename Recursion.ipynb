{
  "nbformat": 4,
  "nbformat_minor": 0,
  "metadata": {
    "colab": {
      "provenance": [],
      "authorship_tag": "ABX9TyPo/TblcHAbth43+s0GGzTT",
      "include_colab_link": true
    },
    "kernelspec": {
      "name": "python3",
      "display_name": "Python 3"
    },
    "language_info": {
      "name": "python"
    }
  },
  "cells": [
    {
      "cell_type": "markdown",
      "metadata": {
        "id": "view-in-github",
        "colab_type": "text"
      },
      "source": [
        "<a href=\"https://colab.research.google.com/github/JayeshDabholkar/Build-a-Virtual-Assistant-Using-Python/blob/main/Recursion.ipynb\" target=\"_parent\"><img src=\"https://colab.research.google.com/assets/colab-badge.svg\" alt=\"Open In Colab\"/></a>"
      ]
    },
    {
      "cell_type": "markdown",
      "source": [
        "###**Recursion**\n",
        "\n",
        "**A function calling itself**\n",
        "\n",
        "Requires two things -\n",
        "1. Recursive formula\n",
        "2. Base condition\n",
        "\n",
        "**Advantages**\n",
        "\n",
        "\n",
        "1.   The code looks simple and effective\n",
        "2.   Complicated problems can be divided into smaller sub problems using recursion\n",
        "\n",
        "**Disadvantages**\n",
        "\n",
        "\n",
        "1.   Utilises lot of memory sometimes and turn out to be expensive method to use\n",
        "2.   Debuging can be very difficult\n",
        "\n",
        "\n",
        "\n",
        "\n",
        "\n",
        "\n",
        "\n"
      ],
      "metadata": {
        "id": "DbFv-5K_J6Rn"
      }
    },
    {
      "cell_type": "markdown",
      "source": [
        "**Revise the 3 magic steps to apply Recursion to any question -**\n",
        "\n",
        "Assumption - In this step, we have to decide what our function will do and believe that it does.\n",
        "\n",
        "Main Logic - This is the recursive step i.e solving the main problem with the help of answers from sub problems.\n",
        "\n",
        "Base Condition - In this step, we have to provide the stopping condition. This step is very important otherwise the code will go into an infinite loop."
      ],
      "metadata": {
        "id": "mjcXVeWViwj5"
      }
    },
    {
      "cell_type": "markdown",
      "source": [
        "Q1. Calculate N factorial"
      ],
      "metadata": {
        "id": "gZRNuTXwMNrr"
      }
    },
    {
      "cell_type": "code",
      "execution_count": null,
      "metadata": {
        "id": "TeKMjjNAfuTh"
      },
      "outputs": [],
      "source": [
        "def factorial(N):\n",
        "  #base condition\n",
        "  if N == 0:\n",
        "    return 1\n",
        "  #recursive formula\n",
        "  else:\n",
        "    return N * factorial(N-1)"
      ]
    },
    {
      "cell_type": "code",
      "source": [
        "factorial(5)"
      ],
      "metadata": {
        "colab": {
          "base_uri": "https://localhost:8080/"
        },
        "id": "iCsE_KvONbxa",
        "outputId": "fae66fff-64e2-44c9-c107-15b4e54d9326"
      },
      "execution_count": null,
      "outputs": [
        {
          "output_type": "execute_result",
          "data": {
            "text/plain": [
              "120"
            ]
          },
          "metadata": {},
          "execution_count": 4
        }
      ]
    },
    {
      "cell_type": "markdown",
      "source": [
        "Q2. Merge sort using recursion"
      ],
      "metadata": {
        "id": "yu3BnOrCOQRI"
      }
    },
    {
      "cell_type": "code",
      "source": [
        "def merge_sort(ls):\n",
        "  #base condition\n",
        "  if len(ls) == 1:\n",
        "    return ls\n",
        "  #recursive formula\n",
        "  n = len(ls)\n",
        "  left = merge_sort(ls[ :n//2]) \n",
        "  right = merge_sort(ls[n//2: ])\n",
        "  results = []\n",
        "  i = 0\n",
        "  j = 0\n",
        "  while i < len(left) and j < len(right):\n",
        "    if left[i] < right[j]:\n",
        "      results.append(left[i])\n",
        "      i = i + 1\n",
        "    elif right[j] < left[i]:\n",
        "      results.append(right[j])\n",
        "      j = j + 1\n",
        "  if i < len(left) :\n",
        "    results += left[i:]\n",
        "  if j < len(right) :\n",
        "    results += right[j:]\n",
        "  \n",
        "  return results\n"
      ],
      "metadata": {
        "id": "eNb_-vSlOPFQ"
      },
      "execution_count": null,
      "outputs": []
    },
    {
      "cell_type": "code",
      "source": [
        "merge_sort([4,2,5,-1,7])"
      ],
      "metadata": {
        "colab": {
          "base_uri": "https://localhost:8080/"
        },
        "id": "WGAlaoMsQiKG",
        "outputId": "ef7c9923-46c2-44e8-b2b3-b44eef3c4323"
      },
      "execution_count": null,
      "outputs": [
        {
          "output_type": "execute_result",
          "data": {
            "text/plain": [
              "[-1, 2, 4, 5, 7]"
            ]
          },
          "metadata": {},
          "execution_count": 8
        }
      ]
    },
    {
      "cell_type": "markdown",
      "source": [
        "Q3. Given a list of integers Follow the\n",
        "sequence of instruction till list is empty\n",
        "1 Print first element and remove it\n",
        "2 Put first element at the back of the list"
      ],
      "metadata": {
        "id": "A_9uit7PRUkx"
      }
    },
    {
      "cell_type": "code",
      "source": [
        "def solve(ls) :\n",
        "\n",
        "  # Base case\n",
        "  if len(ls) <= 1 :\n",
        "    return ls\n",
        "  res = ls[::2]\n",
        "  \n",
        "  ans = solve(ls[1::2])\n",
        "  \n",
        "  return res + ans"
      ],
      "metadata": {
        "id": "Kh-PZtsZRRH9"
      },
      "execution_count": null,
      "outputs": []
    },
    {
      "cell_type": "code",
      "source": [
        "solve([1, 2, 3, 4, 5, 6, 7, 8])"
      ],
      "metadata": {
        "colab": {
          "base_uri": "https://localhost:8080/"
        },
        "id": "EcdPoTV-SYuI",
        "outputId": "a0639503-bcd8-4734-bce9-5ea9b7eb4c52"
      },
      "execution_count": null,
      "outputs": [
        {
          "output_type": "execute_result",
          "data": {
            "text/plain": [
              "[1, 3, 5, 7, 2, 6, 4, 8]"
            ]
          },
          "metadata": {},
          "execution_count": 12
        }
      ]
    },
    {
      "cell_type": "markdown",
      "source": [
        "Q3. Write a recursive function that returns the number of occurrences of \"hi\" in the string passed as a parameter to the function"
      ],
      "metadata": {
        "id": "7wn2Ypmwg6m5"
      }
    },
    {
      "cell_type": "code",
      "source": [
        "def count_hi(word, count=0):\n",
        "  if len(word) < 2:\n",
        "    return count\n",
        "  if word[0] == \"h\" and word[1] == \"i\":\n",
        "    count += 1\n",
        "  return count_hi(word[1:], count) "
      ],
      "metadata": {
        "id": "60TCHlNFg68A"
      },
      "execution_count": null,
      "outputs": []
    },
    {
      "cell_type": "code",
      "source": [
        "count_hi(\"hibhgdhibd\")"
      ],
      "metadata": {
        "colab": {
          "base_uri": "https://localhost:8080/"
        },
        "id": "mgdnrZxYiEdm",
        "outputId": "bdbc30f2-e5da-4716-e649-abb368f970d1"
      },
      "execution_count": null,
      "outputs": [
        {
          "output_type": "execute_result",
          "data": {
            "text/plain": [
              "2"
            ]
          },
          "metadata": {},
          "execution_count": 18
        }
      ]
    },
    {
      "cell_type": "markdown",
      "source": [
        "Q4. Sum of digit"
      ],
      "metadata": {
        "id": "F4bD9dJ-jYgu"
      }
    },
    {
      "cell_type": "code",
      "source": [
        "def sum_digit(n):\n",
        "  if n == 0:\n",
        "    return 0\n",
        "  ans = n%10 + sum_digit(n//10)\n",
        "  return ans\n"
      ],
      "metadata": {
        "id": "jsG3YVP8jXsi"
      },
      "execution_count": null,
      "outputs": []
    },
    {
      "cell_type": "code",
      "source": [
        "sum_digit(11)"
      ],
      "metadata": {
        "colab": {
          "base_uri": "https://localhost:8080/"
        },
        "id": "6ZviDjWMn_2o",
        "outputId": "7078ee80-c318-41af-b01a-fdb7052b208f"
      },
      "execution_count": null,
      "outputs": [
        {
          "output_type": "execute_result",
          "data": {
            "text/plain": [
              "2"
            ]
          },
          "metadata": {},
          "execution_count": 20
        }
      ]
    },
    {
      "cell_type": "markdown",
      "source": [
        "Q5. Power of a Number"
      ],
      "metadata": {
        "id": "kXQJMG9UoSi4"
      }
    },
    {
      "cell_type": "code",
      "source": [
        "def pow(x, y):\n",
        "  if y == 0:\n",
        "    return 1\n",
        "  ans = x * pow(x, y-1)\n",
        "  return ans"
      ],
      "metadata": {
        "id": "QX3nCunnoRni"
      },
      "execution_count": null,
      "outputs": []
    },
    {
      "cell_type": "code",
      "source": [
        "pow(2, 6)"
      ],
      "metadata": {
        "colab": {
          "base_uri": "https://localhost:8080/"
        },
        "id": "bPkOAFCKotcM",
        "outputId": "6750e5a0-98bc-4ecf-aeca-deb3987eb4e3"
      },
      "execution_count": null,
      "outputs": [
        {
          "output_type": "execute_result",
          "data": {
            "text/plain": [
              "64"
            ]
          },
          "metadata": {},
          "execution_count": 27
        }
      ]
    },
    {
      "cell_type": "markdown",
      "source": [
        "Q6. Write a program to calculate the sum of the positive integers of the series n + (n-2) + (n-4)..... (until n-x ≥ 0)"
      ],
      "metadata": {
        "id": "-tHIFJwTp_Uj"
      }
    },
    {
      "cell_type": "code",
      "source": [
        "def sum_series(n):\n",
        "    \n",
        "    if n <= 0:\n",
        "        return 0\n",
        "    return n + sum_series(n - 2)"
      ],
      "metadata": {
        "id": "4ePm-d-xqAxX"
      },
      "execution_count": null,
      "outputs": []
    },
    {
      "cell_type": "code",
      "source": [
        "sum_series(10)"
      ],
      "metadata": {
        "colab": {
          "base_uri": "https://localhost:8080/"
        },
        "id": "gFWyGeHtqJxB",
        "outputId": "5e491d5e-2d08-4799-f358-72272104ef5a"
      },
      "execution_count": null,
      "outputs": [
        {
          "output_type": "execute_result",
          "data": {
            "text/plain": [
              "30"
            ]
          },
          "metadata": {},
          "execution_count": 29
        }
      ]
    },
    {
      "cell_type": "markdown",
      "source": [
        "Q7. Write a recursive program to calculate the harmonic sum of the first n numbers.\n",
        "\n",
        "Note: The harmonic sum is the sum of reciprocals of the positive integers. (Round the sum to 3 decimal places)"
      ],
      "metadata": {
        "id": "b14Gca2Hqjiq"
      }
    },
    {
      "cell_type": "code",
      "source": [
        "def harmonic_sum(n):\n",
        "   \n",
        "    if n == 0:\n",
        "        return 0\n",
        "    return round(1/n + harmonic_sum(n-1), 3)"
      ],
      "metadata": {
        "id": "NBHBYb0zqjyI"
      },
      "execution_count": null,
      "outputs": []
    },
    {
      "cell_type": "code",
      "source": [
        "harmonic_sum(7)"
      ],
      "metadata": {
        "colab": {
          "base_uri": "https://localhost:8080/"
        },
        "id": "cRg_bDW4qq7j",
        "outputId": "67fe7315-cb0e-4b61-993c-f15e1a54a305"
      },
      "execution_count": null,
      "outputs": [
        {
          "output_type": "execute_result",
          "data": {
            "text/plain": [
              "2.593"
            ]
          },
          "metadata": {},
          "execution_count": 31
        }
      ]
    },
    {
      "cell_type": "markdown",
      "source": [
        "Q8. Write a recursive function to return the reverse of a given number passed as an argument."
      ],
      "metadata": {
        "id": "FGUNH1bCq7tm"
      }
    },
    {
      "cell_type": "code",
      "source": [
        "def rev(n, temp=''):\n",
        "\n",
        "    if n == 0:\n",
        "        return temp\n",
        "    temp = temp + str(n%10)\n",
        "    return rev(n//10, temp) \n"
      ],
      "metadata": {
        "id": "bd6a-ahMqw2I"
      },
      "execution_count": null,
      "outputs": []
    },
    {
      "cell_type": "code",
      "source": [
        "rev(100)"
      ],
      "metadata": {
        "colab": {
          "base_uri": "https://localhost:8080/",
          "height": 35
        },
        "id": "f-E15fSirQQ7",
        "outputId": "6dd60601-b8fa-44ce-bf17-73834d26f82b"
      },
      "execution_count": null,
      "outputs": [
        {
          "output_type": "execute_result",
          "data": {
            "text/plain": [
              "'001'"
            ],
            "application/vnd.google.colaboratory.intrinsic+json": {
              "type": "string"
            }
          },
          "metadata": {},
          "execution_count": 37
        }
      ]
    }
  ]
}